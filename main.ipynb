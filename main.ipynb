{
 "cells": [
  {
   "cell_type": "markdown",
   "metadata": {},
   "source": [
    "This is Naren Sathishkumar's solution to Task 4: Sending Files"
   ]
  },
  {
   "cell_type": "markdown",
   "metadata": {},
   "source": [
    "In this program, the BB84 Protocol and Quantum Teleportation will be used to securely send an image between two locations. For a physical implementation, I would use polarized photons to complete the BB84 protocol. The Z basis would correspond with horizontal/vertical basis and X basis would correspond with the diagonal/anti-diagonal (+- 45 degrees) basis. 0 means horizontal or diagonal (depending on basis) and 1 means vertical or anti-diagonal (depending on basis). So, a fiber optic cable could be used to connect mentee and mentor.\n",
    "\n",
    "For improvements, the two-computer system for this problem could be solved via push and pull from GitHub (simple approach). Or, a web server could be deployed in order to share public variables between the two computers easily. One computer would represent mentee (Alice) and one would represent mentor (Bob).\n",
    "\n",
    "Limitations: There are many limitations to using BB84. First of all, if Alice and Bob communicated 100 times, only 50 bits of the key could be created. This is because Bob has a 50/50 chance of getting the same basis as Alice. There is also general quantum error -- quantum hardware today does not act with 100% accuracy in theory. Many times, even if the same basis is selected, the wrong bit will be measured, which can mess up the entire encryption/decryption process. If quantum hardware were to perform exactly like theory states, this problem would be nonexistent -- but this is not the case. \n",
    "\n",
    "Advantages: In regards to security, a eavesdropper (Eve) would have a very low chance of getting the entire key right. If the setup correlates exactly to theory, any error within the key is due to the presence of an Eve -- she measured and transmitted the wrong state when she intercepted Alice's qubit. In terms of probability, Eve will go undetected (3/4)^n times and will only get the entire key correct (1/2)^n times, where n is the number of bits intercepted. In this case, n was 17083, so the probability of Eve successfully getting the key is so low that it is negligible. Also, due to Heisenberg's Uncertainty Principle, measuring a qubit would collapse its state, so Eve could simply not look at the qubit and interpret the data inside it. So, she would have to measure the qubit, with the risk that she is using the wrong basis and also Eve would collapse the original state due to her measurement."
   ]
  },
  {
   "cell_type": "markdown",
   "metadata": {},
   "source": [
    "First, we can import some libraries, namely Qiskit and Numpy, which are required for this program:"
   ]
  },
  {
   "cell_type": "code",
   "execution_count": 1,
   "metadata": {},
   "outputs": [],
   "source": [
    "from qiskit import QuantumCircuit, Aer, assemble\n",
    "from numpy.random import randint"
   ]
  },
  {
   "cell_type": "markdown",
   "metadata": {},
   "source": [
    "Now, we will determine the length of the key we need to send by analyzing the image. This key will be used to encrypt and decrypt the image (encryption by mentee, decryption by mentor)."
   ]
  },
  {
   "cell_type": "code",
   "execution_count": 2,
   "metadata": {},
   "outputs": [],
   "source": [
    "path = r\"mentee\\mentee.jpeg\" # path to the image\n",
    "temp = open(path, \"rb\")\n",
    "mentee_image = temp.read()\n",
    "temp.close()\n",
    "mentee_image = bytearray(mentee_image) # converting to byte array for encryption"
   ]
  },
  {
   "cell_type": "markdown",
   "metadata": {},
   "source": [
    "Now that we have the initial image as a byte array, we can use its length to determine how many bits our key has to be."
   ]
  },
  {
   "cell_type": "code",
   "execution_count": 3,
   "metadata": {},
   "outputs": [
    {
     "name": "stdout",
     "output_type": "stream",
     "text": [
      "17038\n"
     ]
    }
   ],
   "source": [
    "n = len(mentee_image)\n",
    "print(n)"
   ]
  },
  {
   "cell_type": "markdown",
   "metadata": {},
   "source": [
    "In the BB84 protocol, the sender will choose a random bit and random basis for a qubit that they want to send to the receiver. Usually, the sender is called Alice and the receiver is called Bob. Once Alice creates a qubit with state psi (|+>, |->, |0>, or |1>), she will use quantum teleportation to transport this state to Bob. Teleportation is achieved because Alice and Bob's qubits will be an entangled Bell pair. Then, Bob will measure his qubit in a random basis. Alice and Bob announce their bases publicly, and the measured bit will be kept if the bases are the same (different bases will lead to a 50% chance of getting the right bit measured)."
   ]
  },
  {
   "cell_type": "markdown",
   "metadata": {},
   "source": [
    "First, we can make the encode_qubit() function. This function will create a state psi given the randomized bit and base that Alice selected. The function will return a circuit with the state psi on qubit 0 of that circuit."
   ]
  },
  {
   "cell_type": "code",
   "execution_count": 4,
   "metadata": {},
   "outputs": [],
   "source": [
    "def encode_qubit(bit, base):\n",
    "    qc = QuantumCircuit(3, 3)\n",
    "    if base == 0: # measuring in Z basis\n",
    "        if bit == 0:\n",
    "            pass # state |0> --> initial state, so no action needed\n",
    "        else:\n",
    "            qc.x(0) # state |1> --> X gate switches the amplitudes\n",
    "    else: # measuring in X basis\n",
    "        if bit == 0:\n",
    "            qc.h(0) # state |+> --> H gate creates superposition of 0 and 1\n",
    "        else:\n",
    "            qc.x(0)\n",
    "            qc.h(0) # state |-> --> X gate to switch amplitude then H gate for superposition\n",
    "    qc.barrier()\n",
    "    return qc"
   ]
  },
  {
   "cell_type": "markdown",
   "metadata": {},
   "source": [
    "Now, we can create a Bell pair between qubits 1 and 2 of the circuit. This will allow us to transfer the information from qubit 1 (Alice) to qubit 2 (Bob) via quantum teleportation."
   ]
  },
  {
   "cell_type": "code",
   "execution_count": 5,
   "metadata": {},
   "outputs": [],
   "source": [
    "def teleport_state(qc):\n",
    "    qc.h(1)\n",
    "    qc.cx(1, 2) # creating the entagled Bell pair between Alice and Bob\n",
    "    qc.barrier()\n",
    "    \n",
    "    qc.cx(0, 1)\n",
    "    qc.h(0) # Alice teleports state from qubit 0 (state psi) to qubit 1\n",
    "    qc.barrier()\n",
    "    \n",
    "    qc.measure([0, 1], [0, 1]) # Alice measures both qubits, stores them in classical bits 0 and 1\n",
    "    qc.barrier()\n",
    "    return qc    "
   ]
  },
  {
   "cell_type": "markdown",
   "metadata": {},
   "source": [
    "The entagled Bell pair between Alice and Bob has been created. Alice also collapsed the state of qubits 0 and 1 by measuring them. Now, Bob must work with his half of the Bell pair to measure the bit value Alice is trying to send."
   ]
  },
  {
   "cell_type": "code",
   "execution_count": 6,
   "metadata": {},
   "outputs": [],
   "source": [
    "def measure_qubit(qc, base):\n",
    "    qc.cx(1, 2)\n",
    "    qc.cz(0, 2) # Bob completes the teleportation\n",
    "    qc.barrier()\n",
    "    \n",
    "    if base == 1:\n",
    "        qc.h(2) # adding H gate if measuring in X basis --> changing basis of measurement\n",
    "        \n",
    "    qc.measure([2], [2]) # measuring the qubit\n",
    "    \n",
    "    simulator = Aer.get_backend('aer_simulator')\n",
    "    qobject = assemble(qc, shots=1, memory=True) # running circuit 1 time\n",
    "    result = simulator.run(qobject).result()\n",
    "    return int(str(result.get_memory()[0])[0]) # retrieving measurement of qubit 2 (Bob's qubit)"
   ]
  },
  {
   "cell_type": "markdown",
   "metadata": {},
   "source": [
    "Now that the functions are defined, we can get to creating and sending a key between the mentee (Alice) and mentor (Bob)."
   ]
  },
  {
   "cell_type": "code",
   "execution_count": 7,
   "metadata": {},
   "outputs": [],
   "source": [
    "key = [] # we will be appending to this list to get our key\n",
    "\n",
    "while len(key) != n: # loop runs until key length = image \"length\"\n",
    "    mentee_bit = randint(2) # mentee picks random bit\n",
    "    mentee_base = randint(2) # mentor picks random base\n",
    "    circuit = encode_qubit(mentee_bit, mentee_base) # encoding state psi --> random bit and base\n",
    "    \n",
    "    teleport_state(circuit) # creating Bell pair and teleporting state to mentor\n",
    "    \n",
    "    mentor_base = randint(2) # mentor picks random base\n",
    "    mentor_bit = measure_qubit(circuit, mentor_base) # get bit value from measuring mentor half of Bell pair\n",
    "    \n",
    "    if(mentee_base == mentor_base): # appending if mentee's base = mentor's base (announced publicly)\n",
    "        key.append(mentor_bit) # bit would be \"garbage\" if bases were different: measured bit would be random"
   ]
  },
  {
   "cell_type": "markdown",
   "metadata": {},
   "source": [
    "Now, we can use this key to create an encrypted version to exist in the public channel for the mentor to access."
   ]
  },
  {
   "cell_type": "code",
   "execution_count": 8,
   "metadata": {},
   "outputs": [],
   "source": [
    "encrypted_image = mentee_image # creating copy of mentee_image for encryption\n",
    "\n",
    "q = 0\n",
    "for index, values in enumerate(encrypted_image):\n",
    "    encrypted_image[index] = values ^ key[q] # XOR image and key bits\n",
    "    q += 1\n",
    "\n",
    "public_image = open(r\"public.jpeg\", \"wb\") # creating public.jpeg\n",
    "public_image.write(encrypted_image) # writing encrypted image to public.jpeg\n",
    "public_image.close()"
   ]
  },
  {
   "cell_type": "markdown",
   "metadata": {},
   "source": [
    "Mentor can now access and decrypt the encrypted image using the key that was teleported to them."
   ]
  },
  {
   "cell_type": "code",
   "execution_count": 9,
   "metadata": {},
   "outputs": [],
   "source": [
    "decrypted_image = encrypted_image # creating copy of encrypted_image for decryption\n",
    "\n",
    "q = 0\n",
    "for index, values in enumerate(decrypted_image): # decrypting with teleported key\n",
    "    decrypted_image[index] = values ^ key[q] # XOR image and key bits\n",
    "    q += 1\n",
    "\n",
    "mentor_image = open(r\"mentor\\mentor.jpeg\", \"wb\") # creating mentor.jpeg in mentor folder\n",
    "mentor_image.write(decrypted_image) # writing decrypted image to mentor.jpeg\n",
    "mentor_image.close()"
   ]
  },
  {
   "cell_type": "markdown",
   "metadata": {},
   "source": [
    "Done! The image was successfully sent from mentee to mentor via the BB84 protocol and quantum teleportation. "
   ]
  }
 ],
 "metadata": {
  "kernelspec": {
   "display_name": "Python 3.10.8 64-bit (microsoft store)",
   "language": "python",
   "name": "python3"
  },
  "language_info": {
   "codemirror_mode": {
    "name": "ipython",
    "version": 3
   },
   "file_extension": ".py",
   "mimetype": "text/x-python",
   "name": "python",
   "nbconvert_exporter": "python",
   "pygments_lexer": "ipython3",
   "version": "3.10.8"
  },
  "vscode": {
   "interpreter": {
    "hash": "e0acaf148705ed9ed86cc5cad12259d7985e30670e5686e5f55604a9b3b84a55"
   }
  }
 },
 "nbformat": 4,
 "nbformat_minor": 2
}
